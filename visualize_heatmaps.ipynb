{
 "cells": [
  {
   "cell_type": "code",
   "execution_count": null,
   "metadata": {},
   "outputs": [],
   "source": [
    "from datetime import datetime\n",
    "import particle_filter.script.utility as pf_util\n",
    "from particle_filter.script.log import Log\n",
    "from script.fingerprint import Fingerprint\n",
    "from script.parameter import set_params"
   ]
  },
  {
   "cell_type": "code",
   "execution_count": null,
   "metadata": {},
   "outputs": [],
   "source": [
    "set_params(\"config/default.yaml\");"
   ]
  },
  {
   "cell_type": "code",
   "execution_count": null,
   "metadata": {},
   "outputs": [],
   "source": [
    "fp_begin = datetime(2000, 1, 1, 0, 0, 0)\n",
    "fp_end = datetime(2000, 1, 1, 1, 0, 0)\n",
    "fp_log_file = \"particle_filter/log/observed/sample_ble.csv\"\n",
    "result_dir_name = \"sample\"\n",
    "\n",
    "fp_log = Log(fp_begin, fp_end, fp_log_file)\n",
    "fp = Fingerprint(fp_begin, fp_end, fp_log, pf_util.make_result_dir(result_dir_name))"
   ]
  },
  {
   "cell_type": "code",
   "execution_count": null,
   "metadata": {},
   "outputs": [],
   "source": [
    "fp.draw_beacons()\n",
    "fp.draw_points()\n",
    "fp.show_with_heatmap(\"00:00:00:00:00:00\", fp_log.mac_list)\n",
    "fp.clear()"
   ]
  }
 ],
 "metadata": {
  "interpreter": {
   "hash": "31f2aee4e71d21fbe5cf8b01ff0e069b9275f58929596ceb00d14d90e3e16cd6"
  },
  "kernelspec": {
   "display_name": "Python 3.8.9 64-bit",
   "name": "python3"
  },
  "language_info": {
   "codemirror_mode": {
    "name": "ipython",
    "version": 3
   },
   "file_extension": ".py",
   "mimetype": "text/x-python",
   "name": "python",
   "nbconvert_exporter": "python",
   "pygments_lexer": "ipython3",
   "version": "3.9.11"
  },
  "orig_nbformat": 4
 },
 "nbformat": 4,
 "nbformat_minor": 2
}
